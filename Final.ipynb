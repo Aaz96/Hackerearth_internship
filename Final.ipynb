{
  "nbformat": 4,
  "nbformat_minor": 0,
  "metadata": {
    "colab": {
      "name": "Final.ipynb",
      "provenance": [],
      "collapsed_sections": [],
      "toc_visible": true
    },
    "kernelspec": {
      "name": "python3",
      "display_name": "Python 3"
    }
  },
  "cells": [
    {
      "cell_type": "markdown",
      "metadata": {
        "id": "I3yLEI7UCDHZ",
        "colab_type": "text"
      },
      "source": [
        "# Importing all the required libraries"
      ]
    },
    {
      "cell_type": "code",
      "metadata": {
        "id": "SjfCH8kS_WtZ",
        "colab_type": "code",
        "colab": {
          "base_uri": "https://localhost:8080/",
          "height": 51
        },
        "outputId": "7b50ef8f-e26a-4e03-c794-59aea7792ac1"
      },
      "source": [
        "#Importing all the required libraries\n",
        "\n",
        "import pandas as pd\n",
        "import matplotlib.pyplot as plt\n",
        "import numpy as np\n",
        "from sklearn.preprocessing import LabelEncoder\n",
        "import re\n",
        "from collections import defaultdict\n",
        "from sklearn.svm import LinearSVC\n",
        "from sklearn.feature_extraction.text import CountVectorizer\n",
        "from sklearn.feature_extraction.text import TfidfTransformer\n",
        "import nltk\n",
        "nltk.download('punkt')\n",
        "from nltk.tokenize import sent_tokenize\n",
        "from sklearn.model_selection import GridSearchCV\n",
        "from sklearn.svm import LinearSVC"
      ],
      "execution_count": 1,
      "outputs": [
        {
          "output_type": "stream",
          "text": [
            "[nltk_data] Downloading package punkt to /root/nltk_data...\n",
            "[nltk_data]   Unzipping tokenizers/punkt.zip.\n"
          ],
          "name": "stdout"
        }
      ]
    },
    {
      "cell_type": "markdown",
      "metadata": {
        "id": "XoGO2g2vB6q6",
        "colab_type": "text"
      },
      "source": [
        "# Preprocessing"
      ]
    },
    {
      "cell_type": "code",
      "metadata": {
        "id": "A21UMD-sBGVE",
        "colab_type": "code",
        "colab": {}
      },
      "source": [
        "df_train= pd.read_csv('/content/hm_train.csv')\n",
        "df_test= pd.read_csv('/content/hm_test.csv')\n",
        "\n",
        "# Preprocessing the data\n",
        "df_train['cleaned_hm'] = df_train['cleaned_hm'].apply(lambda x: x.replace('\\n',''))\n",
        "df_train['cleaned_hm'] = df_train['cleaned_hm'].apply(lambda x: x.replace('\\r',''))\n",
        "\n",
        "cleaned = defaultdict(list)\n",
        "for hm in df_train['cleaned_hm']:\n",
        "    g = sent_tokenize(hm)\n",
        "    if len(g) > 1:\n",
        "        for i in range(len(g)):\n",
        "            cleaned['cleaned_hm'].append(g[i])\n",
        "            \n",
        "            b=int(re.search(r'\\d+', str(df_train[df_train['cleaned_hm'] == hm]['predicted_category'])).group())\n",
        "            cleaned['predicted_category'].append(df_train[df_train['cleaned_hm'] == hm]['predicted_category'][b])\n",
        "    else:\n",
        "        cleaned['cleaned_hm'].append(hm)\n",
        "        b=int(re.search(r'\\d+', str(df_train[df_train['cleaned_hm'] == hm]['predicted_category'])).group())\n",
        "        cleaned['predicted_category'].append(df_train[df_train['cleaned_hm'] == hm]['predicted_category'][b])\n",
        "\n",
        "cleaned_df = pd.DataFrame(cleaned)\n",
        "\n",
        "count_vect = CountVectorizer()\n",
        "X_train_counts = count_vect.fit_transform(cleaned_df['cleaned_hm'])\n",
        "tfidf_transformer = TfidfTransformer()\n",
        "X_train_tfidf = tfidf_transformer.fit_transform(X_train_counts)\n",
        "\n",
        "df_test['cleaned_hm'] = df_test['cleaned_hm'].apply(lambda x: x.replace('\\n',''))\n",
        "df_test['cleaned_hm'] = df_test['cleaned_hm'].apply(lambda x: x.replace('\\r',''))"
      ],
      "execution_count": 0,
      "outputs": []
    },
    {
      "cell_type": "markdown",
      "metadata": {
        "id": "p8kSIlxzCI_h",
        "colab_type": "text"
      },
      "source": [
        "# Building model"
      ]
    },
    {
      "cell_type": "code",
      "metadata": {
        "id": "iM599aEIwZTR",
        "colab_type": "code",
        "colab": {
          "base_uri": "https://localhost:8080/",
          "height": 258
        },
        "outputId": "122fe45a-aacd-499f-f6fb-d6302f83fcee"
      },
      "source": [
        "param = {'loss':('squared_hinge', 'hinge'),\n",
        "         }\n",
        "from sklearn.model_selection import StratifiedShuffleSplit\n",
        "n_samples = cleaned_df.shape[0]\n",
        "cv = StratifiedShuffleSplit(n_splits=5, test_size=0.3, random_state=0)\n",
        "\n",
        "svc = LinearSVC()\n",
        "\n",
        "clf = GridSearchCV(svc,param_grid=param, cv=cv)\n",
        "clf.fit(X_train_tfidf, cleaned_df['predicted_category'])\n",
        "g= clf.predict(count_vect.transform(df_test['cleaned_hm']))\n",
        "\n",
        "result= pd.DataFrame()\n",
        "\n",
        "result['hmid'] = df_test['hmid']\n",
        "result['predicted_category'] =g\n",
        "\n",
        "result.to_csv('cln_lsvm_gs1.csv')\n",
        "\n",
        "result.head()"
      ],
      "execution_count": 5,
      "outputs": [
        {
          "output_type": "stream",
          "text": [
            "/usr/local/lib/python3.6/dist-packages/sklearn/svm/base.py:929: ConvergenceWarning: Liblinear failed to converge, increase the number of iterations.\n",
            "  \"the number of iterations.\", ConvergenceWarning)\n"
          ],
          "name": "stderr"
        },
        {
          "output_type": "execute_result",
          "data": {
            "text/html": [
              "<div>\n",
              "<style scoped>\n",
              "    .dataframe tbody tr th:only-of-type {\n",
              "        vertical-align: middle;\n",
              "    }\n",
              "\n",
              "    .dataframe tbody tr th {\n",
              "        vertical-align: top;\n",
              "    }\n",
              "\n",
              "    .dataframe thead th {\n",
              "        text-align: right;\n",
              "    }\n",
              "</style>\n",
              "<table border=\"1\" class=\"dataframe\">\n",
              "  <thead>\n",
              "    <tr style=\"text-align: right;\">\n",
              "      <th></th>\n",
              "      <th>hmid</th>\n",
              "      <th>predicted_category</th>\n",
              "    </tr>\n",
              "  </thead>\n",
              "  <tbody>\n",
              "    <tr>\n",
              "      <th>0</th>\n",
              "      <td>88305</td>\n",
              "      <td>bonding</td>\n",
              "    </tr>\n",
              "    <tr>\n",
              "      <th>1</th>\n",
              "      <td>88306</td>\n",
              "      <td>affection</td>\n",
              "    </tr>\n",
              "    <tr>\n",
              "      <th>2</th>\n",
              "      <td>88307</td>\n",
              "      <td>affection</td>\n",
              "    </tr>\n",
              "    <tr>\n",
              "      <th>3</th>\n",
              "      <td>88308</td>\n",
              "      <td>bonding</td>\n",
              "    </tr>\n",
              "    <tr>\n",
              "      <th>4</th>\n",
              "      <td>88309</td>\n",
              "      <td>affection</td>\n",
              "    </tr>\n",
              "  </tbody>\n",
              "</table>\n",
              "</div>"
            ],
            "text/plain": [
              "    hmid predicted_category\n",
              "0  88305            bonding\n",
              "1  88306          affection\n",
              "2  88307          affection\n",
              "3  88308            bonding\n",
              "4  88309          affection"
            ]
          },
          "metadata": {
            "tags": []
          },
          "execution_count": 5
        }
      ]
    },
    {
      "cell_type": "code",
      "metadata": {
        "id": "2-H3Zlj5weO1",
        "colab_type": "code",
        "colab": {}
      },
      "source": [
        ""
      ],
      "execution_count": 0,
      "outputs": []
    }
  ]
}